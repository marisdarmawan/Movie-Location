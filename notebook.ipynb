{
 "cells": [
  {
   "cell_type": "markdown",
   "metadata": {
    "dc": {
     "key": "4"
    },
    "deletable": false,
    "editable": false,
    "run_control": {
     "frozen": true
    },
    "tags": [
     "context"
    ]
   },
   "source": [
    "## Promoting Tourism in San Francisco\n",
    "<p>San Francisco has been home to many famous films, including the action classic “Bullitt” and the recent science-fiction epic “Rise of the Planet of the Apes”. To celebrate the cinematic history of the city, the tourism board has asked you to perform some analyses.</p>\n",
    "<p>Their idea is to promote the 10 most popular filming locations in San Franciso. The board plans to create an attraction at each of the 10 locations based on the biggest film (by worldwide income) shot there.</p>\n",
    "<p>At your disposal are two datasets. One contains every location and film shot in San Franciso. The other dataset contains movie details drawn from the Internet Movie Database (IMDB). </p>\n",
    "<div style=\"background-color: #efebe4; color: #05192d; text-align:left; vertical-align: middle; padding: 15px 25px 15px 25px; line-height: 1.6;\">\n",
    "    <div style=\"font-size:16px\"><b>datasets/locations.csv - Filming locations of movies shot in San Francisco since 1924</b>\n",
    "    </div>\n",
    "    <div> Source: <a href=\"https://data.sfgov.org/Culture-and-Recreation/Film-Locations-in-San-Francisco/yitu-d5am\">Film Locations in San Francisco</a></div>\n",
    "\n",
    "<ul>\n",
    "    <li><b>Title: </b>Title of the movie. Note that some films may share the same title, and are only differentiated by year of release.</li>\n",
    "    <li><b>Release Year: </b>Year of release in cinemas.</li>\n",
    "    <li><b>Locations: </b>Name of location in San Francisco where a scene was shot for the movie.</li>\n",
    "    <li><b>Production Company: </b>Company that produced the film.</li>\n",
    "    <li><b>Distributor: </b>Company that distributed the film.</li>\n",
    "</ul>\n",
    "    </div>\n",
    "<div style=\"background-color: #efebe4; color: #05192d; text-align:left; vertical-align: middle; padding: 15px 25px 15px 25px; line-height: 1.6; margin-top: 17px;\">\n",
    "    <div style=\"font-size:16px\"><b>datasets/imdb_movies.csv - Data on over 85,000 movies up to 2020</b>\n",
    "    </div>\n",
    "    <div>Source: <a href=\"https://www.kaggle.com/stefanoleone992/imdb-extensive-dataset\">Kaggle (IMDb movies extensive dataset)</a></div>\n",
    "<ul>\n",
    "    <li><b>imdb_title_id: </b>Unique film id.</li>\n",
    "    <li><b>title: </b>Title of the film. Note that some films may share the same title, and are only differentiated by year of release.</li>\n",
    "    <li><b>year: </b>The year of release.</li> \n",
    "    <li><b>genre: </b>The genres of the film. The primary genre of the film is the first genre listed.</li>\n",
    "    <li><b>duration: </b>The duration of the film in minutes.</li>\n",
    "    <li><b>director: </b>The name of the director.</li>\n",
    "    <li><b>actors: </b>The leading actors of the film.</li>\n",
    "    <li><b>avg_vote: </b>Average review given to the film.</li>\n",
    "    <li><b>worldwide_gross_income: </b>Total income for the film worldwide in US dollars.</li>\n",
    "</ul>\n",
    "    </div>"
   ]
  },
  {
   "cell_type": "code",
   "execution_count": 1,
   "metadata": {
    "dc": {
     "key": "4"
    },
    "tags": [
     "sample_code"
    ]
   },
   "outputs": [],
   "source": [
    "import pandas as pd\n",
    "import numpy as np"
   ]
  },
  {
   "cell_type": "code",
   "execution_count": 2,
   "metadata": {
    "dc": {
     "key": "4"
    }
   },
   "outputs": [],
   "source": [
    "location = pd.read_csv('datasets/locations.csv')"
   ]
  },
  {
   "cell_type": "code",
   "execution_count": 3,
   "metadata": {
    "dc": {
     "key": "4"
    }
   },
   "outputs": [
    {
     "data": {
      "text/html": [
       "<div>\n",
       "<style scoped>\n",
       "    .dataframe tbody tr th:only-of-type {\n",
       "        vertical-align: middle;\n",
       "    }\n",
       "\n",
       "    .dataframe tbody tr th {\n",
       "        vertical-align: top;\n",
       "    }\n",
       "\n",
       "    .dataframe thead th {\n",
       "        text-align: right;\n",
       "    }\n",
       "</style>\n",
       "<table border=\"1\" class=\"dataframe\">\n",
       "  <thead>\n",
       "    <tr style=\"text-align: right;\">\n",
       "      <th></th>\n",
       "      <th>Title</th>\n",
       "      <th>Release Year</th>\n",
       "      <th>Locations</th>\n",
       "      <th>Production Company</th>\n",
       "      <th>Distributor</th>\n",
       "    </tr>\n",
       "  </thead>\n",
       "  <tbody>\n",
       "    <tr>\n",
       "      <th>0</th>\n",
       "      <td>180</td>\n",
       "      <td>2011</td>\n",
       "      <td>Epic Roasthouse (399 Embarcadero)</td>\n",
       "      <td>SPI Cinemas</td>\n",
       "      <td>NaN</td>\n",
       "    </tr>\n",
       "    <tr>\n",
       "      <th>1</th>\n",
       "      <td>180</td>\n",
       "      <td>2011</td>\n",
       "      <td>Mason &amp; California Streets (Nob Hill)</td>\n",
       "      <td>SPI Cinemas</td>\n",
       "      <td>NaN</td>\n",
       "    </tr>\n",
       "    <tr>\n",
       "      <th>2</th>\n",
       "      <td>180</td>\n",
       "      <td>2011</td>\n",
       "      <td>Justin Herman Plaza</td>\n",
       "      <td>SPI Cinemas</td>\n",
       "      <td>NaN</td>\n",
       "    </tr>\n",
       "    <tr>\n",
       "      <th>3</th>\n",
       "      <td>180</td>\n",
       "      <td>2011</td>\n",
       "      <td>200 block Market Street</td>\n",
       "      <td>SPI Cinemas</td>\n",
       "      <td>NaN</td>\n",
       "    </tr>\n",
       "    <tr>\n",
       "      <th>4</th>\n",
       "      <td>180</td>\n",
       "      <td>2011</td>\n",
       "      <td>City Hall</td>\n",
       "      <td>SPI Cinemas</td>\n",
       "      <td>NaN</td>\n",
       "    </tr>\n",
       "  </tbody>\n",
       "</table>\n",
       "</div>"
      ],
      "text/plain": [
       "  Title  Release Year                              Locations  \\\n",
       "0   180          2011      Epic Roasthouse (399 Embarcadero)   \n",
       "1   180          2011  Mason & California Streets (Nob Hill)   \n",
       "2   180          2011                    Justin Herman Plaza   \n",
       "3   180          2011                200 block Market Street   \n",
       "4   180          2011                              City Hall   \n",
       "\n",
       "  Production Company Distributor  \n",
       "0        SPI Cinemas         NaN  \n",
       "1        SPI Cinemas         NaN  \n",
       "2        SPI Cinemas         NaN  \n",
       "3        SPI Cinemas         NaN  \n",
       "4        SPI Cinemas         NaN  "
      ]
     },
     "execution_count": 3,
     "metadata": {},
     "output_type": "execute_result"
    }
   ],
   "source": [
    "location.head()"
   ]
  },
  {
   "cell_type": "code",
   "execution_count": 4,
   "metadata": {
    "dc": {
     "key": "4"
    }
   },
   "outputs": [
    {
     "name": "stdout",
     "output_type": "stream",
     "text": [
      "<class 'pandas.core.frame.DataFrame'>\n",
      "RangeIndex: 1743 entries, 0 to 1742\n",
      "Data columns (total 5 columns):\n",
      " #   Column              Non-Null Count  Dtype \n",
      "---  ------              --------------  ----- \n",
      " 0   Title               1743 non-null   object\n",
      " 1   Release Year        1743 non-null   int64 \n",
      " 2   Locations           1689 non-null   object\n",
      " 3   Production Company  1741 non-null   object\n",
      " 4   Distributor         1642 non-null   object\n",
      "dtypes: int64(1), object(4)\n",
      "memory usage: 68.2+ KB\n"
     ]
    }
   ],
   "source": [
    "location.info()"
   ]
  },
  {
   "cell_type": "code",
   "execution_count": 5,
   "metadata": {
    "dc": {
     "key": "4"
    }
   },
   "outputs": [],
   "source": [
    "movies = pd.read_csv('datasets/imdb_movies.csv')"
   ]
  },
  {
   "cell_type": "code",
   "execution_count": 6,
   "metadata": {
    "dc": {
     "key": "4"
    }
   },
   "outputs": [
    {
     "name": "stdout",
     "output_type": "stream",
     "text": [
      "<class 'pandas.core.frame.DataFrame'>\n",
      "RangeIndex: 85854 entries, 0 to 85853\n",
      "Data columns (total 9 columns):\n",
      " #   Column                  Non-Null Count  Dtype  \n",
      "---  ------                  --------------  -----  \n",
      " 0   imdb_title_id           85854 non-null  object \n",
      " 1   title                   85854 non-null  object \n",
      " 2   year                    85854 non-null  int64  \n",
      " 3   genre                   85854 non-null  object \n",
      " 4   duration                85854 non-null  int64  \n",
      " 5   director                85767 non-null  object \n",
      " 6   actors                  85785 non-null  object \n",
      " 7   avg_vote                85854 non-null  float64\n",
      " 8   worldwide_gross_income  31016 non-null  object \n",
      "dtypes: float64(1), int64(2), object(6)\n",
      "memory usage: 5.9+ MB\n"
     ]
    }
   ],
   "source": [
    "movies.info()"
   ]
  },
  {
   "cell_type": "code",
   "execution_count": 7,
   "metadata": {
    "dc": {
     "key": "4"
    }
   },
   "outputs": [
    {
     "data": {
      "text/html": [
       "<div>\n",
       "<style scoped>\n",
       "    .dataframe tbody tr th:only-of-type {\n",
       "        vertical-align: middle;\n",
       "    }\n",
       "\n",
       "    .dataframe tbody tr th {\n",
       "        vertical-align: top;\n",
       "    }\n",
       "\n",
       "    .dataframe thead th {\n",
       "        text-align: right;\n",
       "    }\n",
       "</style>\n",
       "<table border=\"1\" class=\"dataframe\">\n",
       "  <thead>\n",
       "    <tr style=\"text-align: right;\">\n",
       "      <th></th>\n",
       "      <th>imdb_title_id</th>\n",
       "      <th>title</th>\n",
       "      <th>year</th>\n",
       "      <th>genre</th>\n",
       "      <th>duration</th>\n",
       "      <th>director</th>\n",
       "      <th>actors</th>\n",
       "      <th>avg_vote</th>\n",
       "      <th>worldwide_gross_income</th>\n",
       "    </tr>\n",
       "  </thead>\n",
       "  <tbody>\n",
       "    <tr>\n",
       "      <th>0</th>\n",
       "      <td>tt0000009</td>\n",
       "      <td>Miss Jerry</td>\n",
       "      <td>1894</td>\n",
       "      <td>Romance</td>\n",
       "      <td>45</td>\n",
       "      <td>Alexander Black</td>\n",
       "      <td>Blanche Bayliss, William Courtenay, Chauncey D...</td>\n",
       "      <td>5.9</td>\n",
       "      <td>NaN</td>\n",
       "    </tr>\n",
       "    <tr>\n",
       "      <th>1</th>\n",
       "      <td>tt0000574</td>\n",
       "      <td>The Story of the Kelly Gang</td>\n",
       "      <td>1906</td>\n",
       "      <td>Biography, Crime, Drama</td>\n",
       "      <td>70</td>\n",
       "      <td>Charles Tait</td>\n",
       "      <td>Elizabeth Tait, John Tait, Norman Campbell, Be...</td>\n",
       "      <td>6.1</td>\n",
       "      <td>NaN</td>\n",
       "    </tr>\n",
       "    <tr>\n",
       "      <th>2</th>\n",
       "      <td>tt0001892</td>\n",
       "      <td>Den sorte drøm</td>\n",
       "      <td>1911</td>\n",
       "      <td>Drama</td>\n",
       "      <td>53</td>\n",
       "      <td>Urban Gad</td>\n",
       "      <td>Asta Nielsen, Valdemar Psilander, Gunnar Helse...</td>\n",
       "      <td>5.8</td>\n",
       "      <td>NaN</td>\n",
       "    </tr>\n",
       "    <tr>\n",
       "      <th>3</th>\n",
       "      <td>tt0002101</td>\n",
       "      <td>Cleopatra</td>\n",
       "      <td>1912</td>\n",
       "      <td>Drama, History</td>\n",
       "      <td>100</td>\n",
       "      <td>Charles L. Gaskill</td>\n",
       "      <td>Helen Gardner, Pearl Sindelar, Miss Fielding, ...</td>\n",
       "      <td>5.2</td>\n",
       "      <td>NaN</td>\n",
       "    </tr>\n",
       "    <tr>\n",
       "      <th>4</th>\n",
       "      <td>tt0002130</td>\n",
       "      <td>L'Inferno</td>\n",
       "      <td>1911</td>\n",
       "      <td>Adventure, Drama, Fantasy</td>\n",
       "      <td>68</td>\n",
       "      <td>Francesco Bertolini, Adolfo Padovan</td>\n",
       "      <td>Salvatore Papa, Arturo Pirovano, Giuseppe de L...</td>\n",
       "      <td>7.0</td>\n",
       "      <td>NaN</td>\n",
       "    </tr>\n",
       "  </tbody>\n",
       "</table>\n",
       "</div>"
      ],
      "text/plain": [
       "  imdb_title_id                        title  year                      genre  \\\n",
       "0     tt0000009                   Miss Jerry  1894                    Romance   \n",
       "1     tt0000574  The Story of the Kelly Gang  1906    Biography, Crime, Drama   \n",
       "2     tt0001892               Den sorte drøm  1911                      Drama   \n",
       "3     tt0002101                    Cleopatra  1912             Drama, History   \n",
       "4     tt0002130                    L'Inferno  1911  Adventure, Drama, Fantasy   \n",
       "\n",
       "   duration                             director  \\\n",
       "0        45                      Alexander Black   \n",
       "1        70                         Charles Tait   \n",
       "2        53                            Urban Gad   \n",
       "3       100                   Charles L. Gaskill   \n",
       "4        68  Francesco Bertolini, Adolfo Padovan   \n",
       "\n",
       "                                              actors  avg_vote  \\\n",
       "0  Blanche Bayliss, William Courtenay, Chauncey D...       5.9   \n",
       "1  Elizabeth Tait, John Tait, Norman Campbell, Be...       6.1   \n",
       "2  Asta Nielsen, Valdemar Psilander, Gunnar Helse...       5.8   \n",
       "3  Helen Gardner, Pearl Sindelar, Miss Fielding, ...       5.2   \n",
       "4  Salvatore Papa, Arturo Pirovano, Giuseppe de L...       7.0   \n",
       "\n",
       "  worldwide_gross_income  \n",
       "0                    NaN  \n",
       "1                    NaN  \n",
       "2                    NaN  \n",
       "3                    NaN  \n",
       "4                    NaN  "
      ]
     },
     "execution_count": 7,
     "metadata": {},
     "output_type": "execute_result"
    }
   ],
   "source": [
    "movies.head()"
   ]
  },
  {
   "cell_type": "code",
   "execution_count": 8,
   "metadata": {
    "dc": {
     "key": "4"
    }
   },
   "outputs": [],
   "source": [
    "movies = movies[movies['avg_vote']>6.0]"
   ]
  },
  {
   "cell_type": "code",
   "execution_count": 9,
   "metadata": {
    "dc": {
     "key": "4"
    }
   },
   "outputs": [],
   "source": [
    "movies = movies[(movies['genre'].str.contains('Action'))|(movies['genre'].str.contains('Drama'))|(movies['genre'].str.contains('Biography'))]"
   ]
  },
  {
   "cell_type": "code",
   "execution_count": 10,
   "metadata": {
    "dc": {
     "key": "4"
    },
    "scrolled": true
   },
   "outputs": [
    {
     "data": {
      "text/html": [
       "<div>\n",
       "<style scoped>\n",
       "    .dataframe tbody tr th:only-of-type {\n",
       "        vertical-align: middle;\n",
       "    }\n",
       "\n",
       "    .dataframe tbody tr th {\n",
       "        vertical-align: top;\n",
       "    }\n",
       "\n",
       "    .dataframe thead th {\n",
       "        text-align: right;\n",
       "    }\n",
       "</style>\n",
       "<table border=\"1\" class=\"dataframe\">\n",
       "  <thead>\n",
       "    <tr style=\"text-align: right;\">\n",
       "      <th></th>\n",
       "      <th>imdb_title_id</th>\n",
       "      <th>title</th>\n",
       "      <th>year</th>\n",
       "      <th>genre</th>\n",
       "      <th>duration</th>\n",
       "      <th>director</th>\n",
       "      <th>actors</th>\n",
       "      <th>avg_vote</th>\n",
       "      <th>worldwide_gross_income</th>\n",
       "    </tr>\n",
       "  </thead>\n",
       "  <tbody>\n",
       "    <tr>\n",
       "      <th>1</th>\n",
       "      <td>tt0000574</td>\n",
       "      <td>The Story of the Kelly Gang</td>\n",
       "      <td>1906</td>\n",
       "      <td>Biography, Crime, Drama</td>\n",
       "      <td>70</td>\n",
       "      <td>Charles Tait</td>\n",
       "      <td>Elizabeth Tait, John Tait, Norman Campbell, Be...</td>\n",
       "      <td>6.1</td>\n",
       "      <td>NaN</td>\n",
       "    </tr>\n",
       "    <tr>\n",
       "      <th>4</th>\n",
       "      <td>tt0002130</td>\n",
       "      <td>L'Inferno</td>\n",
       "      <td>1911</td>\n",
       "      <td>Adventure, Drama, Fantasy</td>\n",
       "      <td>68</td>\n",
       "      <td>Francesco Bertolini, Adolfo Padovan</td>\n",
       "      <td>Salvatore Papa, Arturo Pirovano, Giuseppe de L...</td>\n",
       "      <td>7.0</td>\n",
       "      <td>NaN</td>\n",
       "    </tr>\n",
       "    <tr>\n",
       "      <th>6</th>\n",
       "      <td>tt0002423</td>\n",
       "      <td>Madame DuBarry</td>\n",
       "      <td>1919</td>\n",
       "      <td>Biography, Drama, Romance</td>\n",
       "      <td>85</td>\n",
       "      <td>Ernst Lubitsch</td>\n",
       "      <td>Pola Negri, Emil Jannings, Harry Liedtke, Edua...</td>\n",
       "      <td>6.8</td>\n",
       "      <td>NaN</td>\n",
       "    </tr>\n",
       "    <tr>\n",
       "      <th>7</th>\n",
       "      <td>tt0002445</td>\n",
       "      <td>Quo Vadis?</td>\n",
       "      <td>1913</td>\n",
       "      <td>Drama, History</td>\n",
       "      <td>120</td>\n",
       "      <td>Enrico Guazzoni</td>\n",
       "      <td>Amleto Novelli, Gustavo Serena, Carlo Cattaneo...</td>\n",
       "      <td>6.2</td>\n",
       "      <td>NaN</td>\n",
       "    </tr>\n",
       "    <tr>\n",
       "      <th>10</th>\n",
       "      <td>tt0002646</td>\n",
       "      <td>Atlantis</td>\n",
       "      <td>1913</td>\n",
       "      <td>Drama</td>\n",
       "      <td>121</td>\n",
       "      <td>August Blom</td>\n",
       "      <td>Olaf Fønss, Ida Orloff, Ebba Thomsen, Carl Lau...</td>\n",
       "      <td>6.6</td>\n",
       "      <td>NaN</td>\n",
       "    </tr>\n",
       "  </tbody>\n",
       "</table>\n",
       "</div>"
      ],
      "text/plain": [
       "   imdb_title_id                        title  year  \\\n",
       "1      tt0000574  The Story of the Kelly Gang  1906   \n",
       "4      tt0002130                    L'Inferno  1911   \n",
       "6      tt0002423               Madame DuBarry  1919   \n",
       "7      tt0002445                   Quo Vadis?  1913   \n",
       "10     tt0002646                     Atlantis  1913   \n",
       "\n",
       "                        genre  duration                             director  \\\n",
       "1     Biography, Crime, Drama        70                         Charles Tait   \n",
       "4   Adventure, Drama, Fantasy        68  Francesco Bertolini, Adolfo Padovan   \n",
       "6   Biography, Drama, Romance        85                       Ernst Lubitsch   \n",
       "7              Drama, History       120                      Enrico Guazzoni   \n",
       "10                      Drama       121                          August Blom   \n",
       "\n",
       "                                               actors  avg_vote  \\\n",
       "1   Elizabeth Tait, John Tait, Norman Campbell, Be...       6.1   \n",
       "4   Salvatore Papa, Arturo Pirovano, Giuseppe de L...       7.0   \n",
       "6   Pola Negri, Emil Jannings, Harry Liedtke, Edua...       6.8   \n",
       "7   Amleto Novelli, Gustavo Serena, Carlo Cattaneo...       6.2   \n",
       "10  Olaf Fønss, Ida Orloff, Ebba Thomsen, Carl Lau...       6.6   \n",
       "\n",
       "   worldwide_gross_income  \n",
       "1                     NaN  \n",
       "4                     NaN  \n",
       "6                     NaN  \n",
       "7                     NaN  \n",
       "10                    NaN  "
      ]
     },
     "execution_count": 10,
     "metadata": {},
     "output_type": "execute_result"
    }
   ],
   "source": [
    "movies.head()"
   ]
  },
  {
   "cell_type": "code",
   "execution_count": 11,
   "metadata": {
    "dc": {
     "key": "4"
    }
   },
   "outputs": [],
   "source": [
    "title = list(location['Title'].unique())"
   ]
  },
  {
   "cell_type": "code",
   "execution_count": 12,
   "metadata": {
    "dc": {
     "key": "4"
    }
   },
   "outputs": [
    {
     "data": {
      "text/plain": [
       "['180',\n",
       " '24 Hours on Craigslist',\n",
       " 'Summertime',\n",
       " 'Ballers Season 3',\n",
       " 'Chance Season 2',\n",
       " 'A Night Full of Rain',\n",
       " 'Vegas in Space',\n",
       " 'Nine Months',\n",
       " 'Beautiful Boy',\n",
       " 'About a Boy',\n",
       " 'Age of Adaline',\n",
       " 'After the Thin Man',\n",
       " 'Ant-Man',\n",
       " 'Americana',\n",
       " 'Another 48 Hours',\n",
       " 'Around the Fire',\n",
       " 'Attack of the Killer Tomatoes',\n",
       " 'Basic Instinct',\n",
       " 'Bedazzled',\n",
       " 'Blue Jasmine',\n",
       " 'Bee Season',\n",
       " 'Bicentennial Man',\n",
       " 'Big Eyes',\n",
       " 'Big Sur',\n",
       " 'Boys and Girls',\n",
       " 'Smile Again, Jenny Lee',\n",
       " 'Broken-A Modern Love Story',\n",
       " 'Silicon Valley Season 4',\n",
       " 'Cardinal X',\n",
       " 'Superman',\n",
       " 'The Bachelor',\n",
       " 'Murder in the First, Season 1',\n",
       " 'Time After Time',\n",
       " 'Bullitt',\n",
       " 'The Game',\n",
       " 'Nine to Five',\n",
       " 'Herbie Rides Again',\n",
       " 'Edtv',\n",
       " 'Venom',\n",
       " 'Sister Act 2: Back in the Habit',\n",
       " 'Casualties of War',\n",
       " 'Memoirs of an Invisible Man',\n",
       " 'The Organization',\n",
       " 'Looking Season 2 ep 202',\n",
       " 'San Andreas',\n",
       " 'The Caine Mutiny',\n",
       " 'Looking Season 2 ep 203',\n",
       " 'The Last Black Man in San Francisco',\n",
       " 'Class Action',\n",
       " 'Common Threads: Stories From the Quilt',\n",
       " 'Confessions of a Burning Man',\n",
       " 'Copycat',\n",
       " 'Steve Jobs',\n",
       " 'Interview With The Vampire',\n",
       " 'Murder in the First, Season 2',\n",
       " 'Tales of the City',\n",
       " 'Quitters',\n",
       " 'The Rock',\n",
       " 'Twisted',\n",
       " 'Looking Season 2 ep 209',\n",
       " 'Pal Joey',\n",
       " 'Invasion of the Body Snatchers',\n",
       " 'The Net',\n",
       " 'I Am Michael',\n",
       " 'Alcatraz',\n",
       " 'Dawn of the Planet of the Apes',\n",
       " 'Desperate Measures',\n",
       " 'Looking Season 2 ep 205',\n",
       " 'Swing',\n",
       " 'Star Trek IV: The Voyage Home',\n",
       " 'Looking Season 2 ep 204',\n",
       " 'Cherish',\n",
       " 'D.O.A',\n",
       " 'Looking \"Special\"',\n",
       " 'Ant-Man and the Wasp',\n",
       " 'Mission (aka City of Bars)',\n",
       " 'Sense8 - Season 2',\n",
       " 'The Graduate',\n",
       " 'Freebie and the Bean',\n",
       " 'The Right Stuff',\n",
       " 'Doctor Dolittle',\n",
       " 'Getting Even with Dad',\n",
       " 'Dopamine',\n",
       " 'Godzilla',\n",
       " 'The Enforcer',\n",
       " 'Tin Cup',\n",
       " 'Sense8',\n",
       " 'Never Die Twice',\n",
       " 'Dr. Dolittle 2',\n",
       " 'High Crimes',\n",
       " 'Terminator - Genisys',\n",
       " 'Chance- Season 1 ep109',\n",
       " 'Woman on Top',\n",
       " 'Pushing Dead',\n",
       " 'The Dead Pool',\n",
       " 'Sweet November',\n",
       " 'Woman on the Run',\n",
       " 'When We Rise',\n",
       " 'Always Be My Maybe',\n",
       " 'Pacific Heights',\n",
       " 'Jagged Edge',\n",
       " 'Chance- Season 1 ep102',\n",
       " 'Innerspace',\n",
       " 'Looking',\n",
       " 'Dirty Harry',\n",
       " 'Sudden Impact',\n",
       " 'Sudden Fear',\n",
       " 'Faces of Death',\n",
       " 'Foul Play',\n",
       " 'House of Sand and Fog',\n",
       " 'Fandom',\n",
       " 'Fat Man and Little Boy',\n",
       " 'Magnum Force',\n",
       " 'When a Man Loves a Woman',\n",
       " 'Junior',\n",
       " 'Maxie',\n",
       " 'Final Analysis',\n",
       " 'Patty Hearst',\n",
       " 'Chance- Season 1 ep104',\n",
       " 'Flubber',\n",
       " 'Forrest Gump',\n",
       " '40 Days and 40 Nights',\n",
       " 'A Taiwanese Tale of Two Cities',\n",
       " 'Red Widow',\n",
       " 'Down Periscope',\n",
       " 'Etruscan Smile',\n",
       " 'Sphere',\n",
       " 'Fearless',\n",
       " 'The Birds',\n",
       " 'Greed',\n",
       " 'Budding Prospects, Pilot',\n",
       " 'George of the Jungle',\n",
       " 'It Came From Beneath the Sea',\n",
       " 'The Pursuit of Happyness',\n",
       " 'God is a Communist?* (show me heart universe)',\n",
       " 'Hulk',\n",
       " 'The Presidio',\n",
       " 'Petulia',\n",
       " 'Shattered',\n",
       " 'Vertigo',\n",
       " 'Chance - Season 1 Pilot',\n",
       " 'Haiku Tunnel',\n",
       " 'Happy Gilmore',\n",
       " 'The Diary of a Teenage Girl',\n",
       " 'The Wedding Planner',\n",
       " 'Heart and Souls',\n",
       " 'Thief of Hearts',\n",
       " 'The Conversation',\n",
       " 'Looking Season 2 ep 206',\n",
       " 'GirlBoss',\n",
       " 'Just Like Heaven',\n",
       " 'Red Diaper Baby',\n",
       " 'Hereafter',\n",
       " 'Sneakers',\n",
       " 'Milk',\n",
       " 'Experiment in Terror',\n",
       " 'Homeward Bound II: Lost in San Francisco',\n",
       " 'How Stella Got Her Groove Back',\n",
       " 'Pretty Woman',\n",
       " 'Golden Gate',\n",
       " 'Mrs. Doubtfire',\n",
       " 'The OA Part II',\n",
       " 'Groove',\n",
       " 'Chance- Season 1 ep110',\n",
       " 'Looking Season 2 ep 210',\n",
       " 'Looking Season 2 ep 207',\n",
       " \"I's\",\n",
       " 'Joy Luck Club',\n",
       " 'The Towering Inferno',\n",
       " 'James and the Giant Peach',\n",
       " 'Julie and Jack',\n",
       " 'On the Beach',\n",
       " 'A View to a Kill',\n",
       " 'Chance- Season 1 ep106',\n",
       " 'Bitter Melon',\n",
       " 'Heart Beat',\n",
       " 'Chance- Season 1 ep108',\n",
       " 'City of Angels',\n",
       " 'Metro',\n",
       " 'The House on Telegraph Hill',\n",
       " 'Birth of the Dragon',\n",
       " 'San Francisco',\n",
       " 'Midnight Lace',\n",
       " 'Rent',\n",
       " 'Shoot the Moon',\n",
       " 'Looking Season 2 ep 208',\n",
       " 'Zodiac',\n",
       " 'Flower Drum Song',\n",
       " 'The Woman In Red',\n",
       " 'Chance- Season 1 ep107',\n",
       " 'The Internship',\n",
       " 'Need For Speed',\n",
       " 'Night of Henna',\n",
       " 'Murder in the First, Season 3',\n",
       " \"What's Up Doc?\",\n",
       " 'Chance- Season 1 ep103',\n",
       " 'On the Road',\n",
       " \"Guess Who's Coming to Dinner\",\n",
       " 'Parks and Recreation',\n",
       " 'Patch Adams',\n",
       " 'CSI: NY- episode 903',\n",
       " 'By Hook or By Crook',\n",
       " 'Raising Cain',\n",
       " 'Rollerball',\n",
       " 'Romeo Must Die',\n",
       " 'Sausalito',\n",
       " 'Serendipity',\n",
       " 'Seven Girlfriends',\n",
       " 'Sister Act',\n",
       " 'So I Married an Axe Murderer',\n",
       " 'Nora Prentiss',\n",
       " 'Stigmata',\n",
       " 'The Maltese Falcon',\n",
       " 'Chance - Season 1 ep105',\n",
       " 'American Graffiti',\n",
       " 'The Assassination of Richard Nixon',\n",
       " 'The Bridge',\n",
       " 'Live Nude Girls Unite',\n",
       " 'Chance - Season 1ep105',\n",
       " 'The Californians',\n",
       " 'The Candidate',\n",
       " 'Play it Again, Sam',\n",
       " 'True Believer',\n",
       " 'The Core',\n",
       " 'Pleasure of His Company',\n",
       " 'The Doctor',\n",
       " 'The Doors',\n",
       " 'Chu Chu and the Philly Flash',\n",
       " 'Harold and Maude',\n",
       " 'Hemingway & Gelhorn',\n",
       " 'The Love Bug',\n",
       " \"Fathers' Day\",\n",
       " 'Jade',\n",
       " 'Crackers',\n",
       " 'Dim Sum: A Little Bit of Heart',\n",
       " 'The Other Sister',\n",
       " 'The Last of the Gladiators',\n",
       " 'The Parent Trap',\n",
       " 'Dream with the Fishes',\n",
       " 'Babies',\n",
       " 'Mother',\n",
       " 'The Princess Diaries',\n",
       " 'The Sweetest Thing',\n",
       " 'Star Trek VI: The Undiscovered Country',\n",
       " 'Beaches',\n",
       " 'The Zodiac',\n",
       " '48 Hours',\n",
       " 'Gentleman Jim',\n",
       " 'Under the Tuscan Sun',\n",
       " 'Until the End of the World',\n",
       " 'Just One Night',\n",
       " 'Marnie',\n",
       " 'Mona Lisa Smile',\n",
       " 'What Dreams May Come',\n",
       " 'What the Bleep Do We Know',\n",
       " 'Knife Fight',\n",
       " 'Hard to Hold',\n",
       " 'A Smile Like Yours',\n",
       " 'Shadow of the Thin Man',\n",
       " 'I Remember Mama',\n",
       " 'Nina Takes a Lover',\n",
       " 'High Anxiety',\n",
       " 'The Nightmare Before Christmas',\n",
       " 'Take the Money and Run',\n",
       " 'The Jazz Singer',\n",
       " 'The Lineup',\n",
       " 'Psych-Out',\n",
       " 'Dying Young',\n",
       " 'The Lady from Shanghai',\n",
       " \"Alexander's Ragtime Band\",\n",
       " 'The Fan',\n",
       " 'Indiana Jones and the Last Crusade',\n",
       " 'The Fog of War',\n",
       " 'Love & Taxes',\n",
       " 'Tucker: The Man and His Dream',\n",
       " 'The Times of Harvey Milk',\n",
       " \"Swingin' Along\",\n",
       " 'Point Blank',\n",
       " 'Barbary Coast',\n",
       " 'Birdman of Alcatraz',\n",
       " 'Panther',\n",
       " 'Chan is Missing',\n",
       " 'Family Plot',\n",
       " 'Jack',\n",
       " 'A Jitney Elopement',\n",
       " 'American Yearbook',\n",
       " 'Days of Wine and Roses',\n",
       " 'To the Ends of the Earth',\n",
       " 'The Matrix',\n",
       " 'Dark Passage',\n",
       " 'Good NeighborSam',\n",
       " 'Phenomenon',\n",
       " 'Escape From Alcatraz',\n",
       " 'Susan Slade',\n",
       " 'Burglar',\n",
       " 'Dream for an Insomniac',\n",
       " 'Street Music',\n",
       " 'The Competition',\n",
       " 'Big Trouble in Little China',\n",
       " 'They Call Me MISTER Tibbs',\n",
       " 'All About Eve',\n",
       " 'The Laughing Policeman',\n",
       " 'Hello Frisco, Hello',\n",
       " 'Yours, Mine and Ours',\n",
       " 'Tweek City',\n",
       " 'Serial',\n",
       " 'Kamikaze Hearts',\n",
       " 'The Master',\n",
       " '50 First Dates',\n",
       " \"Can't Stop the Music\",\n",
       " 'Quicksilver']"
      ]
     },
     "execution_count": 12,
     "metadata": {},
     "output_type": "execute_result"
    }
   ],
   "source": [
    "title"
   ]
  },
  {
   "cell_type": "code",
   "execution_count": 13,
   "metadata": {
    "dc": {
     "key": "4"
    }
   },
   "outputs": [
    {
     "data": {
      "text/plain": [
       "311"
      ]
     },
     "execution_count": 13,
     "metadata": {},
     "output_type": "execute_result"
    }
   ],
   "source": [
    "len(title)"
   ]
  },
  {
   "cell_type": "code",
   "execution_count": 14,
   "metadata": {
    "dc": {
     "key": "4"
    }
   },
   "outputs": [],
   "source": [
    "#IMDB movies in San Fransisco\n",
    "movies = movies[movies['title'].isin(title)]"
   ]
  },
  {
   "cell_type": "code",
   "execution_count": 15,
   "metadata": {
    "dc": {
     "key": "4"
    }
   },
   "outputs": [
    {
     "data": {
      "text/plain": [
       "134"
      ]
     },
     "execution_count": 15,
     "metadata": {},
     "output_type": "execute_result"
    }
   ],
   "source": [
    "len(movies)"
   ]
  },
  {
   "cell_type": "code",
   "execution_count": 16,
   "metadata": {
    "dc": {
     "key": "4"
    }
   },
   "outputs": [],
   "source": [
    "#Find top 10 most popular location\n",
    "popular_location = location['Locations'].value_counts().head(10)"
   ]
  },
  {
   "cell_type": "code",
   "execution_count": 17,
   "metadata": {
    "dc": {
     "key": "4"
    }
   },
   "outputs": [],
   "source": [
    "popular_location = list(popular_location.index)"
   ]
  },
  {
   "cell_type": "code",
   "execution_count": 18,
   "metadata": {
    "dc": {
     "key": "4"
    }
   },
   "outputs": [
    {
     "data": {
      "text/plain": [
       "['Golden Gate Bridge',\n",
       " 'City Hall',\n",
       " 'Fairmont Hotel (950 Mason Street, Nob Hill)',\n",
       " 'Treasure Island',\n",
       " 'Coit Tower',\n",
       " 'Palace of Fine Arts (3301 Lyon Street)',\n",
       " 'Chinatown',\n",
       " 'Bay Bridge',\n",
       " 'Grace Cathedral Episcopal Church (1100 California Street)',\n",
       " 'Hall of Justice (850 Bryant Street)']"
      ]
     },
     "execution_count": 18,
     "metadata": {},
     "output_type": "execute_result"
    }
   ],
   "source": [
    "popular_location"
   ]
  },
  {
   "cell_type": "code",
   "execution_count": 19,
   "metadata": {
    "dc": {
     "key": "4"
    }
   },
   "outputs": [],
   "source": [
    "#Fix the object type in worldwide gross income\n",
    "movies['worldwide_gross_income'] = movies['worldwide_gross_income'].fillna('0000')\n",
    "movies['worldwide_gross_income'] = movies['worldwide_gross_income'].apply(lambda x: x[2:])\n",
    "movies['worldwide_gross_income'] = movies['worldwide_gross_income'].astype(int)"
   ]
  },
  {
   "cell_type": "code",
   "execution_count": 20,
   "metadata": {
    "dc": {
     "key": "4"
    }
   },
   "outputs": [],
   "source": [
    "#Sort movies by gross income\n",
    "movies = movies.sort_values(by=['worldwide_gross_income'],ascending=False)"
   ]
  },
  {
   "cell_type": "code",
   "execution_count": 21,
   "metadata": {
    "dc": {
     "key": "4"
    },
    "scrolled": true
   },
   "outputs": [
    {
     "data": {
      "text/html": [
       "<div>\n",
       "<style scoped>\n",
       "    .dataframe tbody tr th:only-of-type {\n",
       "        vertical-align: middle;\n",
       "    }\n",
       "\n",
       "    .dataframe tbody tr th {\n",
       "        vertical-align: top;\n",
       "    }\n",
       "\n",
       "    .dataframe thead th {\n",
       "        text-align: right;\n",
       "    }\n",
       "</style>\n",
       "<table border=\"1\" class=\"dataframe\">\n",
       "  <thead>\n",
       "    <tr style=\"text-align: right;\">\n",
       "      <th></th>\n",
       "      <th>imdb_title_id</th>\n",
       "      <th>title</th>\n",
       "      <th>year</th>\n",
       "      <th>genre</th>\n",
       "      <th>duration</th>\n",
       "      <th>director</th>\n",
       "      <th>actors</th>\n",
       "      <th>avg_vote</th>\n",
       "      <th>worldwide_gross_income</th>\n",
       "    </tr>\n",
       "  </thead>\n",
       "  <tbody>\n",
       "    <tr>\n",
       "      <th>56282</th>\n",
       "      <td>tt1270797</td>\n",
       "      <td>Venom</td>\n",
       "      <td>2018</td>\n",
       "      <td>Action, Adventure, Sci-Fi</td>\n",
       "      <td>112</td>\n",
       "      <td>Ruben Fleischer</td>\n",
       "      <td>Tom Hardy, Michelle Williams, Riz Ahmed, Scott...</td>\n",
       "      <td>6.7</td>\n",
       "      <td>856085151</td>\n",
       "    </tr>\n",
       "    <tr>\n",
       "      <th>64581</th>\n",
       "      <td>tt2103281</td>\n",
       "      <td>Dawn of the Planet of the Apes</td>\n",
       "      <td>2014</td>\n",
       "      <td>Action, Adventure, Drama</td>\n",
       "      <td>130</td>\n",
       "      <td>Matt Reeves</td>\n",
       "      <td>Andy Serkis, Jason Clarke, Gary Oldman, Keri R...</td>\n",
       "      <td>7.6</td>\n",
       "      <td>710644566</td>\n",
       "    </tr>\n",
       "    <tr>\n",
       "      <th>28066</th>\n",
       "      <td>tt0109830</td>\n",
       "      <td>Forrest Gump</td>\n",
       "      <td>1994</td>\n",
       "      <td>Drama, Romance</td>\n",
       "      <td>142</td>\n",
       "      <td>Robert Zemeckis</td>\n",
       "      <td>Tom Hanks, Rebecca Williams, Sally Field, Mich...</td>\n",
       "      <td>8.8</td>\n",
       "      <td>678229452</td>\n",
       "    </tr>\n",
       "    <tr>\n",
       "      <th>76734</th>\n",
       "      <td>tt5095030</td>\n",
       "      <td>Ant-Man and the Wasp</td>\n",
       "      <td>2018</td>\n",
       "      <td>Action, Adventure, Comedy</td>\n",
       "      <td>118</td>\n",
       "      <td>Peyton Reed</td>\n",
       "      <td>Paul Rudd, Evangeline Lilly, Michael Peña, Wal...</td>\n",
       "      <td>7.1</td>\n",
       "      <td>622674139</td>\n",
       "    </tr>\n",
       "    <tr>\n",
       "      <th>50523</th>\n",
       "      <td>tt0831387</td>\n",
       "      <td>Godzilla</td>\n",
       "      <td>2014</td>\n",
       "      <td>Action, Adventure, Sci-Fi</td>\n",
       "      <td>123</td>\n",
       "      <td>Gareth Edwards</td>\n",
       "      <td>Aaron Taylor-Johnson, CJ Adams, Ken Watanabe, ...</td>\n",
       "      <td>6.4</td>\n",
       "      <td>524976069</td>\n",
       "    </tr>\n",
       "  </tbody>\n",
       "</table>\n",
       "</div>"
      ],
      "text/plain": [
       "      imdb_title_id                           title  year  \\\n",
       "56282     tt1270797                           Venom  2018   \n",
       "64581     tt2103281  Dawn of the Planet of the Apes  2014   \n",
       "28066     tt0109830                    Forrest Gump  1994   \n",
       "76734     tt5095030            Ant-Man and the Wasp  2018   \n",
       "50523     tt0831387                        Godzilla  2014   \n",
       "\n",
       "                           genre  duration         director  \\\n",
       "56282  Action, Adventure, Sci-Fi       112  Ruben Fleischer   \n",
       "64581   Action, Adventure, Drama       130      Matt Reeves   \n",
       "28066             Drama, Romance       142  Robert Zemeckis   \n",
       "76734  Action, Adventure, Comedy       118      Peyton Reed   \n",
       "50523  Action, Adventure, Sci-Fi       123   Gareth Edwards   \n",
       "\n",
       "                                                  actors  avg_vote  \\\n",
       "56282  Tom Hardy, Michelle Williams, Riz Ahmed, Scott...       6.7   \n",
       "64581  Andy Serkis, Jason Clarke, Gary Oldman, Keri R...       7.6   \n",
       "28066  Tom Hanks, Rebecca Williams, Sally Field, Mich...       8.8   \n",
       "76734  Paul Rudd, Evangeline Lilly, Michael Peña, Wal...       7.1   \n",
       "50523  Aaron Taylor-Johnson, CJ Adams, Ken Watanabe, ...       6.4   \n",
       "\n",
       "       worldwide_gross_income  \n",
       "56282               856085151  \n",
       "64581               710644566  \n",
       "28066               678229452  \n",
       "76734               622674139  \n",
       "50523               524976069  "
      ]
     },
     "execution_count": 21,
     "metadata": {},
     "output_type": "execute_result"
    }
   ],
   "source": [
    "movies.head()"
   ]
  },
  {
   "cell_type": "code",
   "execution_count": 22,
   "metadata": {
    "dc": {
     "key": "4"
    }
   },
   "outputs": [],
   "source": [
    "#Find the top gross title and year\n",
    "title = []\n",
    "year = []\n",
    "for loc in popular_location:\n",
    "    top1 = list(location[location['Locations'] == loc]['Title'])\n",
    "    title.append(movies[movies['title'].isin(top1)]['title'].iloc[0])\n",
    "    year.append(movies[movies['title'].isin(top1)]['year'].iloc[0])"
   ]
  },
  {
   "cell_type": "code",
   "execution_count": 23,
   "metadata": {
    "dc": {
     "key": "4"
    }
   },
   "outputs": [
    {
     "data": {
      "text/plain": [
       "['Superman',\n",
       " 'Dawn of the Planet of the Apes',\n",
       " 'The Rock',\n",
       " 'Patch Adams',\n",
       " 'San Andreas',\n",
       " 'Forrest Gump',\n",
       " 'Basic Instinct',\n",
       " 'The Game',\n",
       " 'The Towering Inferno',\n",
       " 'Basic Instinct']"
      ]
     },
     "execution_count": 23,
     "metadata": {},
     "output_type": "execute_result"
    }
   ],
   "source": [
    "title"
   ]
  },
  {
   "cell_type": "code",
   "execution_count": 24,
   "metadata": {
    "dc": {
     "key": "4"
    }
   },
   "outputs": [
    {
     "data": {
      "text/plain": [
       "[1978, 2014, 1996, 1998, 2015, 1994, 1992, 1997, 1974, 1992]"
      ]
     },
     "execution_count": 24,
     "metadata": {},
     "output_type": "execute_result"
    }
   ],
   "source": [
    "year"
   ]
  },
  {
   "cell_type": "code",
   "execution_count": 25,
   "metadata": {
    "dc": {
     "key": "4"
    }
   },
   "outputs": [],
   "source": [
    "data = {'Location':popular_location, 'Title':title, 'Year':year}"
   ]
  },
  {
   "cell_type": "code",
   "execution_count": 26,
   "metadata": {
    "dc": {
     "key": "4"
    }
   },
   "outputs": [],
   "source": [
    "sf_hits = pd.DataFrame(data)"
   ]
  },
  {
   "cell_type": "code",
   "execution_count": 27,
   "metadata": {
    "dc": {
     "key": "4"
    }
   },
   "outputs": [
    {
     "data": {
      "text/html": [
       "<div>\n",
       "<style scoped>\n",
       "    .dataframe tbody tr th:only-of-type {\n",
       "        vertical-align: middle;\n",
       "    }\n",
       "\n",
       "    .dataframe tbody tr th {\n",
       "        vertical-align: top;\n",
       "    }\n",
       "\n",
       "    .dataframe thead th {\n",
       "        text-align: right;\n",
       "    }\n",
       "</style>\n",
       "<table border=\"1\" class=\"dataframe\">\n",
       "  <thead>\n",
       "    <tr style=\"text-align: right;\">\n",
       "      <th></th>\n",
       "      <th>Location</th>\n",
       "      <th>Title</th>\n",
       "      <th>Year</th>\n",
       "    </tr>\n",
       "  </thead>\n",
       "  <tbody>\n",
       "    <tr>\n",
       "      <th>0</th>\n",
       "      <td>Golden Gate Bridge</td>\n",
       "      <td>Superman</td>\n",
       "      <td>1978</td>\n",
       "    </tr>\n",
       "    <tr>\n",
       "      <th>1</th>\n",
       "      <td>City Hall</td>\n",
       "      <td>Dawn of the Planet of the Apes</td>\n",
       "      <td>2014</td>\n",
       "    </tr>\n",
       "    <tr>\n",
       "      <th>2</th>\n",
       "      <td>Fairmont Hotel (950 Mason Street, Nob Hill)</td>\n",
       "      <td>The Rock</td>\n",
       "      <td>1996</td>\n",
       "    </tr>\n",
       "    <tr>\n",
       "      <th>3</th>\n",
       "      <td>Treasure Island</td>\n",
       "      <td>Patch Adams</td>\n",
       "      <td>1998</td>\n",
       "    </tr>\n",
       "    <tr>\n",
       "      <th>4</th>\n",
       "      <td>Coit Tower</td>\n",
       "      <td>San Andreas</td>\n",
       "      <td>2015</td>\n",
       "    </tr>\n",
       "    <tr>\n",
       "      <th>5</th>\n",
       "      <td>Palace of Fine Arts (3301 Lyon Street)</td>\n",
       "      <td>Forrest Gump</td>\n",
       "      <td>1994</td>\n",
       "    </tr>\n",
       "    <tr>\n",
       "      <th>6</th>\n",
       "      <td>Chinatown</td>\n",
       "      <td>Basic Instinct</td>\n",
       "      <td>1992</td>\n",
       "    </tr>\n",
       "    <tr>\n",
       "      <th>7</th>\n",
       "      <td>Bay Bridge</td>\n",
       "      <td>The Game</td>\n",
       "      <td>1997</td>\n",
       "    </tr>\n",
       "    <tr>\n",
       "      <th>8</th>\n",
       "      <td>Grace Cathedral Episcopal Church (1100 Califor...</td>\n",
       "      <td>The Towering Inferno</td>\n",
       "      <td>1974</td>\n",
       "    </tr>\n",
       "    <tr>\n",
       "      <th>9</th>\n",
       "      <td>Hall of Justice (850 Bryant Street)</td>\n",
       "      <td>Basic Instinct</td>\n",
       "      <td>1992</td>\n",
       "    </tr>\n",
       "  </tbody>\n",
       "</table>\n",
       "</div>"
      ],
      "text/plain": [
       "                                            Location  \\\n",
       "0                                 Golden Gate Bridge   \n",
       "1                                          City Hall   \n",
       "2        Fairmont Hotel (950 Mason Street, Nob Hill)   \n",
       "3                                    Treasure Island   \n",
       "4                                         Coit Tower   \n",
       "5             Palace of Fine Arts (3301 Lyon Street)   \n",
       "6                                          Chinatown   \n",
       "7                                         Bay Bridge   \n",
       "8  Grace Cathedral Episcopal Church (1100 Califor...   \n",
       "9                Hall of Justice (850 Bryant Street)   \n",
       "\n",
       "                            Title  Year  \n",
       "0                        Superman  1978  \n",
       "1  Dawn of the Planet of the Apes  2014  \n",
       "2                        The Rock  1996  \n",
       "3                     Patch Adams  1998  \n",
       "4                     San Andreas  2015  \n",
       "5                    Forrest Gump  1994  \n",
       "6                  Basic Instinct  1992  \n",
       "7                        The Game  1997  \n",
       "8            The Towering Inferno  1974  \n",
       "9                  Basic Instinct  1992  "
      ]
     },
     "execution_count": 27,
     "metadata": {},
     "output_type": "execute_result"
    }
   ],
   "source": [
    "sf_hits"
   ]
  }
 ],
 "metadata": {
  "kernelspec": {
   "display_name": "Python 3",
   "language": "python",
   "name": "python3"
  },
  "language_info": {
   "codemirror_mode": {
    "name": "ipython",
    "version": 3
   },
   "file_extension": ".py",
   "mimetype": "text/x-python",
   "name": "python",
   "nbconvert_exporter": "python",
   "pygments_lexer": "ipython3",
   "version": "3.8.5"
  }
 },
 "nbformat": 4,
 "nbformat_minor": 2
}
